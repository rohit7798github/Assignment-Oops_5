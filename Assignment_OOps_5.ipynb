{
  "nbformat": 4,
  "nbformat_minor": 0,
  "metadata": {
    "colab": {
      "provenance": [],
      "authorship_tag": "ABX9TyPMwuUO0hX6fi6tCNrCfMRw",
      "include_colab_link": true
    },
    "kernelspec": {
      "name": "python3",
      "display_name": "Python 3"
    },
    "language_info": {
      "name": "python"
    }
  },
  "cells": [
    {
      "cell_type": "markdown",
      "metadata": {
        "id": "view-in-github",
        "colab_type": "text"
      },
      "source": [
        "<a href=\"https://colab.research.google.com/github/rohit7798github/Assignment-Oops_5/blob/main/Assignment_OOps_5.ipynb\" target=\"_parent\"><img src=\"https://colab.research.google.com/assets/colab-badge.svg\" alt=\"Open In Colab\"/></a>"
      ]
    },
    {
      "cell_type": "code",
      "execution_count": null,
      "metadata": {
        "id": "sAI6vHlqQaOa"
      },
      "outputs": [],
      "source": []
    },
    {
      "cell_type": "markdown",
      "source": [
        "#Challenge 1: Square Numbers and Return Their Sum"
      ],
      "metadata": {
        "id": "TamZwnQEQax9"
      }
    },
    {
      "cell_type": "code",
      "source": [
        "class point:\n",
        "  \n",
        "\n",
        "    def __init__(self,x,y,z):\n",
        "        self.x = x\n",
        "        self.y = y\n",
        "        self.z = z\n",
        "\n",
        "    def sqSum(self):\n",
        "        \n",
        "        print(self.x**2)\n",
        "        print(self.y**2)\n",
        "        print(self.z**2)\n",
        "        return 'total sum is:',self.x**2+self.y**2+self.z**2\n",
        "        \n",
        "        \n",
        "num = point(1,3,5)\n",
        "\n",
        "num.sqSum()"
      ],
      "metadata": {
        "colab": {
          "base_uri": "https://localhost:8080/"
        },
        "id": "-iLAguRZQikK",
        "outputId": "beb50a38-ba58-4970-8ffe-dc396205f2c5"
      },
      "execution_count": 1,
      "outputs": [
        {
          "output_type": "stream",
          "name": "stdout",
          "text": [
            "1\n",
            "9\n",
            "25\n"
          ]
        },
        {
          "output_type": "execute_result",
          "data": {
            "text/plain": [
              "('total sum is:', 35)"
            ]
          },
          "metadata": {},
          "execution_count": 1
        }
      ]
    },
    {
      "cell_type": "markdown",
      "source": [
        "#Challenge 2: Implement a Calculator Class"
      ],
      "metadata": {
        "id": "LcuVLcXMQ8g0"
      }
    },
    {
      "cell_type": "code",
      "source": [
        "class Calculator:\n",
        "    def __init__(self, num1, num2):\n",
        "        self.num1 = num1\n",
        "        self.num2 = num2\n",
        "\n",
        "    def add(self):\n",
        "        return (self.num2 + self.num1)\n",
        "\n",
        "    def subtract(self):\n",
        "        return (self.num2 - self.num1)\n",
        "\n",
        "    def multiply(self):\n",
        "        return (self.num2 * self.num1)\n",
        "\n",
        "    def divide(self):\n",
        "        return (self.num2 / self.num1)\n",
        "\n",
        "\n",
        "x  = Calculator(10, 94)\n",
        "print(\"adittion :\", x.add())\n",
        "print(\"subtraction :\", x.subtract())\n",
        "print(\"Mutliplication :\", x.multiply())\n",
        "print(\"Division :\", x.divide())"
      ],
      "metadata": {
        "colab": {
          "base_uri": "https://localhost:8080/"
        },
        "id": "i150KmOkRH7D",
        "outputId": "a3b25c00-8401-4726-d5d5-d40196deffe2"
      },
      "execution_count": 2,
      "outputs": [
        {
          "output_type": "stream",
          "name": "stdout",
          "text": [
            "adittion : 104\n",
            "subtraction : 84\n",
            "Mutliplication : 940\n",
            "Division : 9.4\n"
          ]
        }
      ]
    },
    {
      "cell_type": "markdown",
      "source": [
        "#Challenge 3: Implement the Complete Student Class"
      ],
      "metadata": {
        "id": "My5r6LJbRRf0"
      }
    },
    {
      "cell_type": "code",
      "source": [
        "class Student:\n",
        "\n",
        "  def __init__(self, setName, getName):\n",
        "\n",
        "    self.setName = setName\n",
        "\n",
        "    self.getName = getName \n",
        "\n",
        "  def setRollNumber(self,RollNumber):\n",
        "\n",
        "    self.setRollNumber = RollNumber\n",
        "\n",
        "  def getRollNumber(self,RollNumber):\n",
        "\n",
        "    self.getRollNumber = RollNumber\n",
        "\n",
        "  def display(self):\n",
        "\n",
        "    print('setName: '+ self.setName)\n",
        "\n",
        "    print('getName: '+ str(self.getName))\n",
        "\n",
        "    print('setRollNumber: '+ str(self.setRollNumber))\n",
        "\n",
        "    print('getRollNumber: '+ str(self.getRollNumber))\n",
        "\n",
        "student_one = Student('Rohit','Rohit')\n",
        "\n",
        "student_one.setRollNumber(21)\n",
        "\n",
        "student_one.getRollNumber(23)\n",
        "\n",
        "student_one.display()"
      ],
      "metadata": {
        "colab": {
          "base_uri": "https://localhost:8080/"
        },
        "id": "11p-xsiPRIeU",
        "outputId": "b961d6c9-9915-41ef-8112-81370b5dc84f"
      },
      "execution_count": 3,
      "outputs": [
        {
          "output_type": "stream",
          "name": "stdout",
          "text": [
            "setName: Rohit\n",
            "getName: Rohit\n",
            "setRollNumber: 21\n",
            "getRollNumber: 23\n"
          ]
        }
      ]
    },
    {
      "cell_type": "markdown",
      "source": [],
      "metadata": {
        "id": "gHHAathVRi6e"
      }
    },
    {
      "cell_type": "markdown",
      "source": [
        "#Challenge 4: Implement a Banking Account"
      ],
      "metadata": {
        "id": "nWeMFikqRzSc"
      }
    },
    {
      "cell_type": "code",
      "source": [
        "class Account:\n",
        "\n",
        "    def __init__(self, title=None, balance=0):\n",
        "        self.__title = title\n",
        "        self.__balance = balance\n",
        "\n",
        "    def getBalance(self):\n",
        "        return self.__balance\n",
        "\n",
        "    def deposit(self, amount):\n",
        "        self.__balance += amount\n",
        "\n",
        "    def withdrawal(self, amount):\n",
        "        self.__balance -= amount\n",
        "\n",
        "class SavingsAccount(Account):\n",
        "\n",
        "    def __init__(self, title=None, balance=0, interestRate=0):\n",
        "        super().__init__(title, balance)\n",
        "        self.interestRate = interestRate\n",
        "\n",
        "    def interestAmount(self):\n",
        "        return (self.interestRate * self.getBalance()) / 100\n",
        "\n",
        "a = SavingsAccount(\"Ashish\",5000,5)\n",
        "a.interestAmount()"
      ],
      "metadata": {
        "colab": {
          "base_uri": "https://localhost:8080/"
        },
        "id": "kFZXTRKKRIb6",
        "outputId": "d16921e3-258f-40c9-b32d-603803d369d6"
      },
      "execution_count": 4,
      "outputs": [
        {
          "output_type": "execute_result",
          "data": {
            "text/plain": [
              "250.0"
            ]
          },
          "metadata": {},
          "execution_count": 4
        }
      ]
    },
    {
      "cell_type": "markdown",
      "source": [
        "#Challenge 5: Handling a Bank Account"
      ],
      "metadata": {
        "id": "AuriFJEzSSig"
      }
    },
    {
      "cell_type": "code",
      "source": [
        "class Account:\n",
        "\n",
        "\n",
        "\n",
        "  def __init__(self,title = None,balance=0):\n",
        "\n",
        "    self.title = title\n",
        "\n",
        "    self.balance = balance\n",
        "\n",
        "    print(\"Hello!!! Welcome to the Deposit & Withdrawal Machine\")\n",
        "\n",
        "\n",
        "\n",
        "  def deposit(self):\n",
        "\n",
        "    amount=float(input(\"Enter amount to be Deposited: \"))\n",
        "\n",
        "    self.balance += amount\n",
        "\n",
        "    print(\"\\n Amount Deposited:\",amount)\n",
        "\n",
        "\n",
        "\n",
        "  def withdraw(self):\n",
        "\n",
        "    amount = float(input(\"Enter amount to be Withdrawn: \"))\n",
        "\n",
        "\n",
        "\n",
        "    if self.balance >= amount:\n",
        "\n",
        "      self.balance -= amount\n",
        "\n",
        "      print(\"\\n You Withdrew:\", amount)\n",
        "\n",
        "    else:\n",
        "\n",
        "      print(\"\\n Insufficient balance \")\n",
        "\n",
        "\n",
        "\n",
        "  def getBalance(self):\n",
        "\n",
        "    print(\"\\n Net Available Balance=\",self.balance)\n",
        "\n",
        "\n",
        "\n",
        "class SavingsAccount(Account):\n",
        "\n",
        "    def __init__(self, title=None, balance=0, interestRate=0):\n",
        "\n",
        "        super().__init__(title, balance)\n",
        "\n",
        "        self.interestRate = interestRate\n",
        "\n",
        "\n",
        "\n",
        "    def interestAmount(self):\n",
        "\n",
        "      return ((self.balance*self.interestRate)/100)\n",
        "\n",
        "\n",
        "#testcase1:\n",
        "s = Account(\"Ashish\",2000)\n",
        "s.deposit()\n",
        "s.getBalance()  \n",
        "\n",
        "#testcase2:\n",
        "s = Account(\"Ashish\",2000)\n",
        "s.withdraw()\n",
        "s.getBalance()\n",
        "\n",
        "\n",
        "\n",
        "#testcase3:\n",
        "a = SavingsAccount(\"Ashish\",2000,5)\n",
        "a.interestAmount()"
      ],
      "metadata": {
        "colab": {
          "base_uri": "https://localhost:8080/"
        },
        "id": "S8QK31_8RIZD",
        "outputId": "cedec257-91b5-45c1-dacf-efca6f70cb71"
      },
      "execution_count": 5,
      "outputs": [
        {
          "output_type": "stream",
          "name": "stdout",
          "text": [
            "Hello!!! Welcome to the Deposit & Withdrawal Machine\n",
            "Enter amount to be Deposited: 500\n",
            "\n",
            " Amount Deposited: 500.0\n",
            "\n",
            " Net Available Balance= 2500.0\n",
            "Hello!!! Welcome to the Deposit & Withdrawal Machine\n",
            "Enter amount to be Withdrawn: 500\n",
            "\n",
            " You Withdrew: 500.0\n",
            "\n",
            " Net Available Balance= 1500.0\n",
            "Hello!!! Welcome to the Deposit & Withdrawal Machine\n"
          ]
        },
        {
          "output_type": "execute_result",
          "data": {
            "text/plain": [
              "100.0"
            ]
          },
          "metadata": {},
          "execution_count": 5
        }
      ]
    }
  ]
}